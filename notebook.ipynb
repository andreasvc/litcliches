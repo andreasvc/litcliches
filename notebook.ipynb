{
 "cells": [
  {
   "cell_type": "markdown",
   "metadata": {},
   "source": [
    "# Notebook for the paper \"Cliche expressions in literature and genre novels\"\n"
   ]
  },
  {
   "cell_type": "code",
   "execution_count": 1,
   "metadata": {},
   "outputs": [
    {
     "name": "stdout",
     "output_type": "stream",
     "text": [
      "/datastore/avcrane1/literariness\n",
      "/datastore/avcrane1/cliches\n"
     ]
    }
   ],
   "source": [
    "%matplotlib inline\n",
    "import warnings\n",
    "warnings.simplefilter('ignore')\n",
    "import random\n",
    "from collections import defaultdict\n",
    "import numpy as np\n",
    "import scipy.stats\n",
    "import pandas\n",
    "import seaborn\n",
    "import matplotlib.pyplot as plt\n",
    "from nltk import ngrams\n",
    "from sklearn import feature_selection\n",
    "%cd /datastore/avcrane1/literariness/\n",
    "import features\n",
    "%cd /datastore/avcrane1/cliches/\n",
    "import postprocess"
   ]
  },
  {
   "cell_type": "code",
   "execution_count": 2,
   "metadata": {
    "collapsed": true
   },
   "outputs": [],
   "source": [
    "results = pandas.concat([\n",
    "        pandas.read_table('cliches/results.tsv', index_col=0),\n",
    "        pandas.read_csv('../Riddle/metadata.csv', index_col=0),\n",
    "    ], axis=1, join='inner')\n",
    "# NB: the following discards 18 novels with less than 2000 sentences,\n",
    "# which are not part of baselinefeatures.csv.\n",
    "tmp = pandas.read_csv('../Riddle/baselinefeatures.csv', index_col=0)\n",
    "results = results.ix[tmp.index]\n",
    "# Get the complete (document, cliche) matrix of counts:\n",
    "cliches = postprocess.readmatches('cliches/matches.txt', results.index)"
   ]
  },
  {
   "cell_type": "code",
   "execution_count": 3,
   "metadata": {},
   "outputs": [
    {
     "data": {
      "text/plain": [
       "(383,)"
      ]
     },
     "execution_count": 3,
     "metadata": {},
     "output_type": "execute_result"
    }
   ],
   "source": [
    "results.index.shape"
   ]
  },
  {
   "cell_type": "code",
   "execution_count": 4,
   "metadata": {},
   "outputs": [
    {
     "data": {
      "text/plain": [
       "Index(['texts', 'sentences', 'matches', '@ 10,000 sentences',\n",
       "       '@ 10,000 sentences, freq > 1', 'count of most repeated match', 'types',\n",
       "       'type-token ratio', 'Author', 'Title', 'Category', 'Riddle code',\n",
       "       'Translated', 'Author gender', 'Author origin', 'Original language',\n",
       "       'Inclusion criterion', 'Publication date', 'First print', 'Publisher',\n",
       "       'English title', 'Literary rating', '# literary ratings',\n",
       "       'Quality rating', '# quality ratings'],\n",
       "      dtype='object')"
      ]
     },
     "execution_count": 4,
     "metadata": {},
     "output_type": "execute_result"
    }
   ],
   "source": [
    "results.columns"
   ]
  },
  {
   "cell_type": "code",
   "execution_count": 5,
   "metadata": {},
   "outputs": [
    {
     "data": {
      "text/html": [
       "<div>\n",
       "<style scoped>\n",
       "    .dataframe tbody tr th:only-of-type {\n",
       "        vertical-align: middle;\n",
       "    }\n",
       "\n",
       "    .dataframe tbody tr th {\n",
       "        vertical-align: top;\n",
       "    }\n",
       "\n",
       "    .dataframe thead th {\n",
       "        text-align: right;\n",
       "    }\n",
       "</style>\n",
       "<table border=\"1\" class=\"dataframe\">\n",
       "  <thead>\n",
       "    <tr style=\"text-align: right;\">\n",
       "      <th></th>\n",
       "      <th>count</th>\n",
       "    </tr>\n",
       "    <tr>\n",
       "      <th>text</th>\n",
       "      <th></th>\n",
       "    </tr>\n",
       "  </thead>\n",
       "  <tbody>\n",
       "    <tr>\n",
       "      <th>' Weet je het zeker ?</th>\n",
       "      <td>307</td>\n",
       "    </tr>\n",
       "    <tr>\n",
       "      <th>' Is dat zo ?</th>\n",
       "      <td>245</td>\n",
       "    </tr>\n",
       "    <tr>\n",
       "      <th>' Waar heb je het over ?</th>\n",
       "      <td>231</td>\n",
       "    </tr>\n",
       "    <tr>\n",
       "      <th>' Laat maar .</th>\n",
       "      <td>140</td>\n",
       "    </tr>\n",
       "    <tr>\n",
       "      <th>' Is dat alles ?</th>\n",
       "      <td>139</td>\n",
       "    </tr>\n",
       "    <tr>\n",
       "      <th>' Dat meen je niet .</th>\n",
       "      <td>101</td>\n",
       "    </tr>\n",
       "    <tr>\n",
       "      <th>' Dat dacht ik al .</th>\n",
       "      <td>101</td>\n",
       "    </tr>\n",
       "    <tr>\n",
       "      <th>' Dat meen je niet !</th>\n",
       "      <td>88</td>\n",
       "    </tr>\n",
       "    <tr>\n",
       "      <th>' Waarom denk je dat ?</th>\n",
       "      <td>86</td>\n",
       "    </tr>\n",
       "    <tr>\n",
       "      <th>Maar toch ...</th>\n",
       "      <td>68</td>\n",
       "    </tr>\n",
       "  </tbody>\n",
       "</table>\n",
       "</div>"
      ],
      "text/plain": [
       "                          count\n",
       "text                           \n",
       "' Weet je het zeker ?       307\n",
       "' Is dat zo ?               245\n",
       "' Waar heb je het over ?    231\n",
       "' Laat maar .               140\n",
       "' Is dat alles ?            139\n",
       "' Dat meen je niet .        101\n",
       "' Dat dacht ik al .         101\n",
       "' Dat meen je niet !         88\n",
       "' Waarom denk je dat ?       86\n",
       "Maar toch ...                68"
      ]
     },
     "execution_count": 5,
     "metadata": {},
     "output_type": "execute_result"
    }
   ],
   "source": [
    "FREQLIST = pandas.read_table('/datastore/avcrane1/Riddle/sonar-word.freqsort.lower.gz',\n",
    "        encoding='utf8', index_col=0, header=None, names=['word', 'count'],\n",
    "        nrows=20000)\n",
    "bymatch = pandas.read_table(\n",
    "        'cliches/bymatch.tsv',\n",
    "        index_col=0, header=None, names=['text', 'count'])\n",
    "\n",
    "# The overall most frequent cliches\n",
    "bymatch.head(10)"
   ]
  },
  {
   "cell_type": "markdown",
   "metadata": {
    "collapsed": true
   },
   "source": [
    "## Plots"
   ]
  },
  {
   "cell_type": "code",
   "execution_count": 6,
   "metadata": {
    "scrolled": false
   },
   "outputs": [
    {
     "name": "stdout",
     "output_type": "stream",
     "text": [
      "Baantjer_RatInVal 2.83969465649 77.9280311712\n",
      "Pauw_Drift 3.84848484848 62.6959247649\n",
      "Tex_Wachtwoord 4.27272727273 48.3223924143\n",
      "Dorrestein_Leesclub 4.97654941374 0.0\n",
      "James_VijftigTintenGrijs 2.115625 23.2835174356\n",
      "Voskuil_Buurman 6.05315614618 38.9659760502\n"
     ]
    },
    {
     "data": {
      "image/png": "[encoded data removed]",
      "text/plain": [
       "<matplotlib.figure.Figure at 0x7f7b274520b8>"
      ]
     },
     "metadata": {},
     "output_type": "display_data"
    }
   ],
   "source": [
    "# scatter plot w/some labels\n",
    "g = seaborn.jointplot('Literary rating', '@ 10,000 sentences', results,\n",
    "                  xlim=(1, 7), ylim=(-5, 85), kind='reg', size=8)\n",
    "for label in [\n",
    "            'Baantjer_RatInVal', 'Pauw_Drift',\n",
    "            'Tex_Wachtwoord', 'Dorrestein_Leesclub',\n",
    "            'James_VijftigTintenGrijs',\n",
    "             'Voskuil_Buurman']:\n",
    "    x = results['Literary rating'].at[label]\n",
    "    y = results['@ 10,000 sentences'].at[label]\n",
    "    print(label, x, y)\n",
    "    xt = 0\n",
    "    yt = 15\n",
    "    ha = 'center'\n",
    "    if label == 'Dorrestein_Leesclub':\n",
    "        xt = -5\n",
    "        yt = -7\n",
    "        ha = 'right'\n",
    "    g.ax_joint.annotate(\n",
    "        label.replace('_', '\\n'),\n",
    "        xy=(x, y),\n",
    "        xytext=(xt, yt),\n",
    "        textcoords='offset points',\n",
    "        color='k', fontsize='small',\n",
    "        horizontalalignment=ha, verticalalignment='center', \n",
    "        arrowprops=dict(facecolor='black', arrowstyle='-'))\n",
    "g.fig.savefig('/tmp/reg-cliche.pdf')"
   ]
  },
  {
   "cell_type": "code",
   "execution_count": 7,
   "metadata": {},
   "outputs": [
    {
     "data": {
      "image/png": "[encoded data removed]",
      "text/plain": [
       "<matplotlib.figure.Figure at 0x7f7bac4dabe0>"
      ]
     },
     "metadata": {},
     "output_type": "display_data"
    }
   ],
   "source": [
    "seaborn.violinplot(x='Category', y='cliches @ 10,000 sentences',\n",
    "        data=results.rename(columns={'@ 10,000 sentences': 'cliches @ 10,000 sentences'}),\n",
    "        order=['Fiction', 'Suspense', 'Romantic', 'Other'],\n",
    "        inner=\"quartiles\", palette=\"Set2\", cut=0);\n",
    "plt.savefig('/tmp/violincliche.pdf')"
   ]
  },
  {
   "cell_type": "markdown",
   "metadata": {},
   "source": [
    "## Simple textual features"
   ]
  },
  {
   "cell_type": "code",
   "execution_count": 8,
   "metadata": {
    "collapsed": true
   },
   "outputs": [],
   "source": [
    "def getstats(tokens):\n",
    "    result = {}\n",
    "    text = features.Text.fromtokenized(\n",
    "            'input', tokens, start=0, end=1000, maxlen=300, lang='nl')\n",
    "    read = text.readabilityscores()\n",
    "    basic = text.basicfeatures(freqlist=FREQLIST)\n",
    "    result['sentences'] = read['r_sentences']\n",
    "    result['words per sentence'] = read['r_words_per_sentence']\n",
    "    result['% direct speech sentences'] = basic['b_%_direct_speech']\n",
    "    result['top3000vocab'] = basic['b_top3000vocab']\n",
    "    result['bzip2_ratio'] = basic['b_bzip2_ratio']\n",
    "    return result\n",
    "\n",
    "refstats = pandas.DataFrame({\n",
    "    'cliches': getstats('\\n'.join(bymatch.index)),\n",
    "    'lassy': getstats(open('/datastore/avcrane1/data/lassytrain.tok').read()),\n",
    "    'cgn': getstats(open('/datastore/avcrane1/data/cgn_syn_nl_train.tok').read())\n",
    "    }).T.drop('sentences', axis=1)"
   ]
  },
  {
   "cell_type": "code",
   "execution_count": 9,
   "metadata": {},
   "outputs": [
    {
     "data": {
      "text/plain": [
       "Index(['Literary ratings', 'Quality', 'Category', 'Gender', 'Translated',\n",
       "       'sentences', 'words', 'characters', 'syllables', 'characters per word',\n",
       "       'syllables per word', 'words per sentence', 'type_token_ratio',\n",
       "       'dialogue', '% direct speech sentences', 'questions', '% questions',\n",
       "       'semicolons', 'aux_after_main', 'aux_before_main', '% aux_after_main',\n",
       "       '% aux_before_main', 'modifiers', 'constituents',\n",
       "       '% modifier constituents', 'nouns', 'verbs', 'adverbs', 'adjectives',\n",
       "       'modifying PPs', 'modifying RELs', 'modifying CPs', 'modifying APs',\n",
       "       'modifying ADVPs', '% verbs', '% nouns', '% adverbs', '% adjectives',\n",
       "       '% modifying PPs', '% modifying CPs', '% modifying APs',\n",
       "       '% modifying ADVPs', '% modifying RELs', 'constituents1', 'NPs',\n",
       "       'subject_NPs', 'object_NPs', 'top1000vocab', 'top2000vocab',\n",
       "       'top3000vocab', 'top5000vocab', 'top10000vocab', 'top20000vocab',\n",
       "       'unknownvocab', 'gzip_ratio', 'bzip2_ratio', 'lzma_ratio', 'avgdeplen',\n",
       "       'avgdlevel', 'Riddle-code'],\n",
       "      dtype='object')"
      ]
     },
     "execution_count": 9,
     "metadata": {},
     "output_type": "execute_result"
    }
   ],
   "source": [
    "stats = pandas.read_csv('../Riddle/baselinefeatures.csv', index_col=0)\n",
    "stats.columns"
   ]
  },
  {
   "cell_type": "code",
   "execution_count": 10,
   "metadata": {},
   "outputs": [
    {
     "name": "stdout",
     "output_type": "stream",
     "text": [
      "\\begin{tabular}{lrrrr}\n",
      "\\toprule\n",
      "{} &  \\% direct speech sentences &  bzip2\\_ratio &  top3000vocab &  words per sentence \\\\\n",
      "\\midrule\n",
      "Novels   &                  34.044547 &     0.313538 &      0.833344 &           12.136379 \\\\\n",
      "Fiction  &                  27.720274 &     0.318374 &      0.824118 &           13.423845 \\\\\n",
      "Other    &                  35.686961 &     0.306851 &      0.839591 &           12.151061 \\\\\n",
      "Romantic &                  42.773171 &     0.310939 &      0.844797 &           11.507537 \\\\\n",
      "Suspense &                  36.675003 &     0.311266 &      0.837004 &           11.300055 \\\\\n",
      "cgn      &                   0.000000 &     0.334600 &      0.811086 &            7.618000 \\\\\n",
      "cliches  &                  58.400000 &     0.259332 &      0.967113 &            4.292000 \\\\\n",
      "lassy    &                  14.300000 &     0.373167 &      0.734156 &            9.959000 \\\\\n",
      "\\bottomrule\n",
      "\\end{tabular}\n",
      "\n"
     ]
    }
   ],
   "source": [
    "print(pandas.concat([\n",
    "        pandas.DataFrame({'Novels': \n",
    "            stats[['% direct speech sentences', 'bzip2_ratio', 'top3000vocab', 'words per sentence']].mean()\n",
    "            }).T,\n",
    "        stats[['Category', '% direct speech sentences', 'bzip2_ratio', 'top3000vocab', 'words per sentence']\n",
    "            ].groupby('Category').mean(),\n",
    "        refstats,\n",
    "    ]).to_latex())"
   ]
  },
  {
   "cell_type": "code",
   "execution_count": 11,
   "metadata": {},
   "outputs": [
    {
     "name": "stdout",
     "output_type": "stream",
     "text": [
      "\\begin{tabular}{lrr}\n",
      "\\toprule\n",
      "{} &     r &    p \\\\\n",
      "\\midrule\n",
      "words per sentence        & -0.46 &  0.0 \\\\\n",
      "\\% direct speech sentences &  0.45 &  0.0 \\\\\n",
      "top3000vocab              &  0.48 &  0.0 \\\\\n",
      "bzip2\\_ratio               & -0.29 &  0.0 \\\\\n",
      "\\bottomrule\n",
      "\\end{tabular}\n",
      "\n"
     ]
    }
   ],
   "source": [
    "# Correlation of number of cliches with the simple textual features.\n",
    "feats = [   'words per sentence',\n",
    "            '% direct speech sentences',\n",
    "            'top3000vocab',\n",
    "            'bzip2_ratio']\n",
    "_, pvalues = feature_selection.f_regression(stats[feats].values, results['@ 10,000 sentences'].values)\n",
    "x = pandas.DataFrame(\n",
    "    {a: [stats[a].corr(results['@ 10,000 sentences']), p]\n",
    "    for a, p in zip(feats, pvalues)}, index=['r', 'p'], columns=feats).T\n",
    "print(x.round(2).to_latex())"
   ]
  },
  {
   "cell_type": "markdown",
   "metadata": {},
   "source": [
    "## Most common cliches by genre"
   ]
  },
  {
   "cell_type": "code",
   "execution_count": 12,
   "metadata": {},
   "outputs": [
    {
     "data": {
      "text/html": [
       "<div>\n",
       "<style scoped>\n",
       "    .dataframe tbody tr th:only-of-type {\n",
       "        vertical-align: middle;\n",
       "    }\n",
       "\n",
       "    .dataframe tbody tr th {\n",
       "        vertical-align: top;\n",
       "    }\n",
       "\n",
       "    .dataframe thead th {\n",
       "        text-align: right;\n",
       "    }\n",
       "</style>\n",
       "<table border=\"1\" class=\"dataframe\">\n",
       "  <thead>\n",
       "    <tr style=\"text-align: right;\">\n",
       "      <th></th>\n",
       "      <th>Fiction</th>\n",
       "      <th>Romantic</th>\n",
       "      <th>Suspense</th>\n",
       "    </tr>\n",
       "  </thead>\n",
       "  <tbody>\n",
       "    <tr>\n",
       "      <th>' Weet je het zeker ?</th>\n",
       "      <td>0.463768</td>\n",
       "      <td>1.048780</td>\n",
       "      <td>0.972527</td>\n",
       "    </tr>\n",
       "    <tr>\n",
       "      <th>' Is dat zo ?</th>\n",
       "      <td>0.340580</td>\n",
       "      <td>0.634146</td>\n",
       "      <td>0.736264</td>\n",
       "    </tr>\n",
       "    <tr>\n",
       "      <th>' Waar heb je het over ?</th>\n",
       "      <td>0.260870</td>\n",
       "      <td>1.024390</td>\n",
       "      <td>0.802198</td>\n",
       "    </tr>\n",
       "    <tr>\n",
       "      <th>' Is dat alles ?</th>\n",
       "      <td>0.231884</td>\n",
       "      <td>0.365854</td>\n",
       "      <td>0.467033</td>\n",
       "    </tr>\n",
       "    <tr>\n",
       "      <th>' Laat maar .</th>\n",
       "      <td>0.231884</td>\n",
       "      <td>0.487805</td>\n",
       "      <td>0.456044</td>\n",
       "    </tr>\n",
       "    <tr>\n",
       "      <th>' Waarom denk je dat ?</th>\n",
       "      <td>0.152174</td>\n",
       "      <td>0.146341</td>\n",
       "      <td>0.302198</td>\n",
       "    </tr>\n",
       "    <tr>\n",
       "      <th>Waar of niet ?</th>\n",
       "      <td>0.144928</td>\n",
       "      <td>0.000000</td>\n",
       "      <td>0.098901</td>\n",
       "    </tr>\n",
       "    <tr>\n",
       "      <th>Waar heb je het over ?</th>\n",
       "      <td>0.144928</td>\n",
       "      <td>0.170732</td>\n",
       "      <td>0.120879</td>\n",
       "    </tr>\n",
       "    <tr>\n",
       "      <th>Maar toch ...</th>\n",
       "      <td>0.137681</td>\n",
       "      <td>0.097561</td>\n",
       "      <td>0.203297</td>\n",
       "    </tr>\n",
       "    <tr>\n",
       "      <th>' Weet ik veel .</th>\n",
       "      <td>0.137681</td>\n",
       "      <td>0.341463</td>\n",
       "      <td>0.131868</td>\n",
       "    </tr>\n",
       "  </tbody>\n",
       "</table>\n",
       "</div>"
      ],
      "text/plain": [
       "                           Fiction  Romantic  Suspense\n",
       "' Weet je het zeker ?     0.463768  1.048780  0.972527\n",
       "' Is dat zo ?             0.340580  0.634146  0.736264\n",
       "' Waar heb je het over ?  0.260870  1.024390  0.802198\n",
       "' Is dat alles ?          0.231884  0.365854  0.467033\n",
       "' Laat maar .             0.231884  0.487805  0.456044\n",
       "' Waarom denk je dat ?    0.152174  0.146341  0.302198\n",
       "Waar of niet ?            0.144928  0.000000  0.098901\n",
       "Waar heb je het over ?    0.144928  0.170732  0.120879\n",
       "Maar toch ...             0.137681  0.097561  0.203297\n",
       "' Weet ik veel .          0.137681  0.341463  0.131868"
      ]
     },
     "execution_count": 12,
     "metadata": {},
     "output_type": "execute_result"
    }
   ],
   "source": [
    "fiction = results.ix[results.Category == 'Fiction'].index\n",
    "suspense = results.ix[results.Category == 'Suspense'].index\n",
    "romantic = results.ix[results.Category == 'Romantic'].index\n",
    "# divide frequency of each cliche by number of novels per genre\n",
    "# to get expected frequency per novel.\n",
    "top = pandas.DataFrame({\n",
    "    'Fiction': cliches.loc[fiction].sum() / (results.Category == 'Fiction').sum(),\n",
    "    'Suspense': cliches.loc[suspense].sum() / (results.Category == 'Suspense').sum(),\n",
    "    'Romantic': cliches.loc[romantic].sum() / (results.Category == 'Romantic').sum(),\n",
    "    })\n",
    "top.sort_values(by='Fiction', ascending=False).head(10)"
   ]
  },
  {
   "cell_type": "code",
   "execution_count": 13,
   "metadata": {},
   "outputs": [
    {
     "data": {
      "text/html": [
       "<div>\n",
       "<style scoped>\n",
       "    .dataframe tbody tr th:only-of-type {\n",
       "        vertical-align: middle;\n",
       "    }\n",
       "\n",
       "    .dataframe tbody tr th {\n",
       "        vertical-align: top;\n",
       "    }\n",
       "\n",
       "    .dataframe thead th {\n",
       "        text-align: right;\n",
       "    }\n",
       "</style>\n",
       "<table border=\"1\" class=\"dataframe\">\n",
       "  <thead>\n",
       "    <tr style=\"text-align: right;\">\n",
       "      <th></th>\n",
       "      <th>Fiction</th>\n",
       "      <th>Romantic</th>\n",
       "      <th>Suspense</th>\n",
       "    </tr>\n",
       "  </thead>\n",
       "  <tbody>\n",
       "    <tr>\n",
       "      <th>' Weet je het zeker ?</th>\n",
       "      <td>0.463768</td>\n",
       "      <td>1.048780</td>\n",
       "      <td>0.972527</td>\n",
       "    </tr>\n",
       "    <tr>\n",
       "      <th>' Waar heb je het over ?</th>\n",
       "      <td>0.260870</td>\n",
       "      <td>1.024390</td>\n",
       "      <td>0.802198</td>\n",
       "    </tr>\n",
       "    <tr>\n",
       "      <th>' Is dat zo ?</th>\n",
       "      <td>0.340580</td>\n",
       "      <td>0.634146</td>\n",
       "      <td>0.736264</td>\n",
       "    </tr>\n",
       "    <tr>\n",
       "      <th>' Is dat alles ?</th>\n",
       "      <td>0.231884</td>\n",
       "      <td>0.365854</td>\n",
       "      <td>0.467033</td>\n",
       "    </tr>\n",
       "    <tr>\n",
       "      <th>' Laat maar .</th>\n",
       "      <td>0.231884</td>\n",
       "      <td>0.487805</td>\n",
       "      <td>0.456044</td>\n",
       "    </tr>\n",
       "    <tr>\n",
       "      <th>' Waarom denk je dat ?</th>\n",
       "      <td>0.152174</td>\n",
       "      <td>0.146341</td>\n",
       "      <td>0.302198</td>\n",
       "    </tr>\n",
       "    <tr>\n",
       "      <th>' Dat dacht ik al .</th>\n",
       "      <td>0.079710</td>\n",
       "      <td>0.585366</td>\n",
       "      <td>0.291209</td>\n",
       "    </tr>\n",
       "    <tr>\n",
       "      <th>' Dat meen je niet .</th>\n",
       "      <td>0.086957</td>\n",
       "      <td>0.878049</td>\n",
       "      <td>0.252747</td>\n",
       "    </tr>\n",
       "    <tr>\n",
       "      <th>' Waar gaat het over ?</th>\n",
       "      <td>0.057971</td>\n",
       "      <td>0.146341</td>\n",
       "      <td>0.225275</td>\n",
       "    </tr>\n",
       "    <tr>\n",
       "      <th>' Dat kun je wel zeggen .</th>\n",
       "      <td>0.014493</td>\n",
       "      <td>0.146341</td>\n",
       "      <td>0.214286</td>\n",
       "    </tr>\n",
       "  </tbody>\n",
       "</table>\n",
       "</div>"
      ],
      "text/plain": [
       "                            Fiction  Romantic  Suspense\n",
       "' Weet je het zeker ?      0.463768  1.048780  0.972527\n",
       "' Waar heb je het over ?   0.260870  1.024390  0.802198\n",
       "' Is dat zo ?              0.340580  0.634146  0.736264\n",
       "' Is dat alles ?           0.231884  0.365854  0.467033\n",
       "' Laat maar .              0.231884  0.487805  0.456044\n",
       "' Waarom denk je dat ?     0.152174  0.146341  0.302198\n",
       "' Dat dacht ik al .        0.079710  0.585366  0.291209\n",
       "' Dat meen je niet .       0.086957  0.878049  0.252747\n",
       "' Waar gaat het over ?     0.057971  0.146341  0.225275\n",
       "' Dat kun je wel zeggen .  0.014493  0.146341  0.214286"
      ]
     },
     "execution_count": 13,
     "metadata": {},
     "output_type": "execute_result"
    }
   ],
   "source": [
    "top.sort_values(by='Suspense', ascending=False).head(10)"
   ]
  },
  {
   "cell_type": "code",
   "execution_count": 14,
   "metadata": {},
   "outputs": [
    {
     "data": {
      "text/html": [
       "<div>\n",
       "<style scoped>\n",
       "    .dataframe tbody tr th:only-of-type {\n",
       "        vertical-align: middle;\n",
       "    }\n",
       "\n",
       "    .dataframe tbody tr th {\n",
       "        vertical-align: top;\n",
       "    }\n",
       "\n",
       "    .dataframe thead th {\n",
       "        text-align: right;\n",
       "    }\n",
       "</style>\n",
       "<table border=\"1\" class=\"dataframe\">\n",
       "  <thead>\n",
       "    <tr style=\"text-align: right;\">\n",
       "      <th></th>\n",
       "      <th>Fiction</th>\n",
       "      <th>Romantic</th>\n",
       "      <th>Suspense</th>\n",
       "    </tr>\n",
       "  </thead>\n",
       "  <tbody>\n",
       "    <tr>\n",
       "      <th>' Dat meen je niet !</th>\n",
       "      <td>0.057971</td>\n",
       "      <td>1.243902</td>\n",
       "      <td>0.109890</td>\n",
       "    </tr>\n",
       "    <tr>\n",
       "      <th>' Weet je het zeker ?</th>\n",
       "      <td>0.463768</td>\n",
       "      <td>1.048780</td>\n",
       "      <td>0.972527</td>\n",
       "    </tr>\n",
       "    <tr>\n",
       "      <th>' Waar heb je het over ?</th>\n",
       "      <td>0.260870</td>\n",
       "      <td>1.024390</td>\n",
       "      <td>0.802198</td>\n",
       "    </tr>\n",
       "    <tr>\n",
       "      <th>' Dat meen je niet .</th>\n",
       "      <td>0.086957</td>\n",
       "      <td>0.878049</td>\n",
       "      <td>0.252747</td>\n",
       "    </tr>\n",
       "    <tr>\n",
       "      <th>' Is dat zo ?</th>\n",
       "      <td>0.340580</td>\n",
       "      <td>0.634146</td>\n",
       "      <td>0.736264</td>\n",
       "    </tr>\n",
       "    <tr>\n",
       "      <th>' Dat dacht ik al .</th>\n",
       "      <td>0.079710</td>\n",
       "      <td>0.585366</td>\n",
       "      <td>0.291209</td>\n",
       "    </tr>\n",
       "    <tr>\n",
       "      <th>' Laat maar .</th>\n",
       "      <td>0.231884</td>\n",
       "      <td>0.487805</td>\n",
       "      <td>0.456044</td>\n",
       "    </tr>\n",
       "    <tr>\n",
       "      <th>Ik red me wel .</th>\n",
       "      <td>0.065217</td>\n",
       "      <td>0.463415</td>\n",
       "      <td>0.098901</td>\n",
       "    </tr>\n",
       "    <tr>\n",
       "      <th>' Doe niet zo raar .</th>\n",
       "      <td>0.036232</td>\n",
       "      <td>0.463415</td>\n",
       "      <td>0.060440</td>\n",
       "    </tr>\n",
       "    <tr>\n",
       "      <th>' Is dat alles ?</th>\n",
       "      <td>0.231884</td>\n",
       "      <td>0.365854</td>\n",
       "      <td>0.467033</td>\n",
       "    </tr>\n",
       "  </tbody>\n",
       "</table>\n",
       "</div>"
      ],
      "text/plain": [
       "                           Fiction  Romantic  Suspense\n",
       "' Dat meen je niet !      0.057971  1.243902  0.109890\n",
       "' Weet je het zeker ?     0.463768  1.048780  0.972527\n",
       "' Waar heb je het over ?  0.260870  1.024390  0.802198\n",
       "' Dat meen je niet .      0.086957  0.878049  0.252747\n",
       "' Is dat zo ?             0.340580  0.634146  0.736264\n",
       "' Dat dacht ik al .       0.079710  0.585366  0.291209\n",
       "' Laat maar .             0.231884  0.487805  0.456044\n",
       "Ik red me wel .           0.065217  0.463415  0.098901\n",
       "' Doe niet zo raar .      0.036232  0.463415  0.060440\n",
       "' Is dat alles ?          0.231884  0.365854  0.467033"
      ]
     },
     "execution_count": 14,
     "metadata": {},
     "output_type": "execute_result"
    }
   ],
   "source": [
    "top.sort_values(by='Romantic', ascending=False).head(10)"
   ]
  },
  {
   "cell_type": "markdown",
   "metadata": {},
   "source": [
    "# The Cook & Hirst 2013 n-gram method\n",
    "\n",
    "Cf. http://aclweb.org/anthology/W13-1008"
   ]
  },
  {
   "cell_type": "code",
   "execution_count": 15,
   "metadata": {
    "collapsed": true
   },
   "outputs": [],
   "source": [
    "lassyngrams = pandas.read_table('/datastore/avcrane1/lassygroot/lassy-ngrams.txt',\n",
    "                  index_col=0, usecols=[1], header=0, quoting=3,\n",
    "                  dtype={1: np.int32}, engine='c')"
   ]
  },
  {
   "cell_type": "code",
   "execution_count": 16,
   "metadata": {},
   "outputs": [
    {
     "data": {
      "text/plain": [
       "269528509"
      ]
     },
     "execution_count": 16,
     "metadata": {},
     "output_type": "execute_result"
    }
   ],
   "source": [
    "lassyngrams.size"
   ]
  },
  {
   "cell_type": "code",
   "execution_count": 17,
   "metadata": {},
   "outputs": [
    {
     "name": "stdout",
     "output_type": "stream",
     "text": [
      "/datastore/avcrane1/cliches\n"
     ]
    }
   ],
   "source": [
    "%cd /datastore/avcrane1/cliches/\n",
    "clichelines = open('cliche_matches.txt').read().splitlines()\n",
    "# NB: reading whole sentence here; could restrict to matching cliche only.\n",
    "# NB: strip sentence-final period, because it otherwise shows up as an outlier.\n",
    "# (e.g., the trigram \"common_word . _\" will be disproportionally common).\n",
    "# (alternatively, maybe just remove the padding?)\n",
    "numtokens = sum(len(line.strip('.').split()) for line in clichelines)\n",
    "clichengrams = {n:\n",
    "        pandas.Index(' '.join(a)\n",
    "        for line in clichelines\n",
    "            for a in ngrams(line.strip('.').split(), n, pad_right=True, right_pad_symbol='_'))\n",
    "        for n in range(1, 6)}"
   ]
  },
  {
   "cell_type": "code",
   "execution_count": 18,
   "metadata": {
    "collapsed": true
   },
   "outputs": [],
   "source": [
    "def samplengrams(filename, numtokens, n):\n",
    "    # sample lines until we have about as much tokens as for the cliches\n",
    "    result = {x: list() for x in range(1, n + 1)}\n",
    "    t = 0\n",
    "    lines = open(filename).read().splitlines()\n",
    "    while t < numtokens:\n",
    "        line = random.choice(lines).strip('.').split()\n",
    "        t += len(line)\n",
    "        for x in range(1, n + 1):\n",
    "            for a in ngrams(line, x, pad_right=True, right_pad_symbol='_'):\n",
    "                result[x].append(' '.join(a))\n",
    "    result = {x: pandas.Index(result[x]) for x in range(1, n + 1)}\n",
    "    return result\n",
    "\n",
    "cgn = samplengrams('../data/cgn_syn_nl_train.tok', numtokens, 5)\n",
    "lassytrain = samplengrams('../data/lassytrain.tok', numtokens, 5)"
   ]
  },
  {
   "cell_type": "code",
   "execution_count": 19,
   "metadata": {},
   "outputs": [
    {
     "data": {
      "text/plain": [
       "(13998, 14012, 13991)"
      ]
     },
     "execution_count": 19,
     "metadata": {},
     "output_type": "execute_result"
    }
   ],
   "source": [
    "len(lassytrain[1]), len(cgn[1]), len(clichengrams[1])"
   ]
  },
  {
   "cell_type": "code",
   "execution_count": 20,
   "metadata": {},
   "outputs": [
    {
     "data": {
      "text/plain": [
       "(13998, 14012, 13991)"
      ]
     },
     "execution_count": 20,
     "metadata": {},
     "output_type": "execute_result"
    }
   ],
   "source": [
    "len(lassytrain[3]), len(cgn[3]), len(clichengrams[3])"
   ]
  },
  {
   "cell_type": "code",
   "execution_count": 21,
   "metadata": {},
   "outputs": [
    {
     "data": {
      "text/plain": [
       "Index(['Een rol spelen', 'rol spelen ook', 'spelen ook de', 'ook de aanslagen',\n",
       "       'de aanslagen in', 'aanslagen in Irak', 'in Irak ,', 'Irak , waarbij',\n",
       "       ', waarbij olie-installaties', 'waarbij olie-installaties vaak',\n",
       "       ...\n",
       "       'verschillende soorten _', 'soorten _ _', '« Alles Kan',\n",
       "       'Alles Kan Beter', 'Kan Beter »', 'Beter » (', '» ( 1997-1999',\n",
       "       '( 1997-1999 )', '1997-1999 ) _', ') _ _'],\n",
       "      dtype='object', length=13998)"
      ]
     },
     "execution_count": 21,
     "metadata": {},
     "output_type": "execute_result"
    }
   ],
   "source": [
    "lassytrain[3]"
   ]
  },
  {
   "cell_type": "code",
   "execution_count": 22,
   "metadata": {},
   "outputs": [
    {
     "data": {
      "text/plain": [
       "Index(['Aan mij zal', 'mij zal het', 'zal het niet', 'het niet liggen',\n",
       "       'niet liggen _', 'liggen _ _', 'Aarde aan Mars', 'aan Mars !',\n",
       "       'Mars ! _', '! _ _',\n",
       "       ...\n",
       "       '' Zullen we', 'Zullen we het', 'we het gezellig',\n",
       "       'het gezellig houden', 'gezellig houden ?', 'houden ? _', '? _ _',\n",
       "       '' zwerver '', 'zwerver ' _', '' _ _'],\n",
       "      dtype='object', length=13991)"
      ]
     },
     "execution_count": 22,
     "metadata": {},
     "output_type": "execute_result"
    }
   ],
   "source": [
    "clichengrams[3]"
   ]
  },
  {
   "cell_type": "code",
   "execution_count": 23,
   "metadata": {},
   "outputs": [
    {
     "data": {
      "image/png": "[encoded data removed]",
      "text/plain": [
       "<matplotlib.figure.Figure at 0x7f78329a7240>"
      ]
     },
     "metadata": {},
     "output_type": "display_data"
    }
   ],
   "source": [
    "fig, axes = plt.subplots(nrows=2, ncols=3, sharex=False, sharey=False, figsize=(9, 5))\n",
    "xlim = 20; bw=0.5\n",
    "for n, ax in zip(range(1, 6), axes.reshape((-1, ))):\n",
    "    a = np.log(lassyngrams.COUNT.ix[cgn[n]].dropna())\n",
    "    b = np.log(lassyngrams.COUNT.ix[lassytrain[n]].dropna())\n",
    "    c = np.log(lassyngrams.COUNT.ix[clichengrams[n]].dropna())\n",
    "    ax.hist([c, b, a], bins=20, label=['cliches', 'written', 'spoken'],\n",
    "            histtype='step', alpha=1.0, linewidth=2)\n",
    "    ax.set_xlabel('%d-grams log count' % n)\n",
    "    ax.legend(loc='best')\n",
    "    ax.tick_params(axis='x', which='both', bottom='on', top='off')\n",
    "    ax.tick_params(axis='y', which='both', left='on', right='off')\n",
    "fig.tight_layout()\n",
    "axes[1, 2].set_visible(False)\n",
    "axes[0, 0].legend(loc='upper left')\n",
    "axes[0, 0].set_ylim(0, 3300); axes[0, 1].set_ylim(0, 3300)\n",
    "fig.savefig('/tmp/ngramcomp.pdf')"
   ]
  },
  {
   "cell_type": "code",
   "execution_count": 24,
   "metadata": {},
   "outputs": [
    {
     "name": "stdout",
     "output_type": "stream",
     "text": [
      "n = 1\n",
      "lassy<->cliches RanksumsResult(statistic=-11.165903361368462, pvalue=5.9879356499367859e-29)\n",
      "cgn<->cliches RanksumsResult(statistic=-17.038821851182558, pvalue=4.2317050031300371e-65)\n",
      "lassy<->cgn RanksumsResult(statistic=1.2006077538448701, pvalue=0.22990339186452369)\n",
      "n = 2\n",
      "lassy<->cliches RanksumsResult(statistic=-6.173336117159848, pvalue=6.686385366347475e-10)\n",
      "cgn<->cliches RanksumsResult(statistic=8.4232670622169969, pvalue=3.6612861226148262e-17)\n",
      "lassy<->cgn RanksumsResult(statistic=-14.933760235267449, pvalue=1.9873591660851934e-50)\n",
      "n = 3\n",
      "lassy<->cliches RanksumsResult(statistic=-26.603092722688739, pvalue=6.2512187788341364e-156)\n",
      "cgn<->cliches RanksumsResult(statistic=46.130105886858459, pvalue=0.0)\n",
      "lassy<->cgn RanksumsResult(statistic=-42.504753290595907, pvalue=0.0)\n",
      "n = 4\n",
      "lassy<->cliches RanksumsResult(statistic=5.0299534388607006, pvalue=4.9059895865524642e-07)\n",
      "cgn<->cliches RanksumsResult(statistic=105.0759753844561, pvalue=0.0)\n",
      "lassy<->cgn RanksumsResult(statistic=-9.9193319900851318, pvalue=3.4304432470567613e-23)\n",
      "n = 5\n",
      "lassy<->cliches RanksumsResult(statistic=32.846966736044969, pvalue=1.2584673586233954e-236)\n",
      "cgn<->cliches RanksumsResult(statistic=134.77634685979706, pvalue=0.0)\n",
      "lassy<->cgn RanksumsResult(statistic=26.552065754715812, pvalue=2.4309428079673219e-155)\n"
     ]
    }
   ],
   "source": [
    "for n in range(1, 6):\n",
    "    print('n =', n)\n",
    "    print('lassy<->cliches', scipy.stats.ranksums(lassyngrams.COUNT.ix[lassytrain[n]], lassyngrams.COUNT.ix[clichengrams[n]]))\n",
    "    print('cgn<->cliches', scipy.stats.ranksums(lassyngrams.COUNT.ix[cgn[n]], lassyngrams.COUNT.ix[clichengrams[n]]))\n",
    "    print('lassy<->cgn', scipy.stats.ranksums(lassyngrams.COUNT.ix[lassytrain[n]], lassyngrams.COUNT.ix[cgn[n]]))"
   ]
  },
  {
   "cell_type": "code",
   "execution_count": 25,
   "metadata": {
    "collapsed": true
   },
   "outputs": [],
   "source": [
    "dorr = samplengrams('../Riddle/tokenized/Dorrestein_Leesclub.tok', numtokens, 5)\n",
    "spri = samplengrams('../Riddle/tokenized/Springer_Quadriga.tok', numtokens, 5)\n",
    "buur = samplengrams('../Riddle/tokenized/Voskuil_Buurman.tok', numtokens, 5)"
   ]
  },
  {
   "cell_type": "code",
   "execution_count": 26,
   "metadata": {},
   "outputs": [
    {
     "data": {
      "image/png": "[encoded data removed]",
      "text/plain": [
       "<matplotlib.figure.Figure at 0x7f73c1a84e48>"
      ]
     },
     "metadata": {},
     "output_type": "display_data"
    }
   ],
   "source": [
    "# tokens\n",
    "fig, axes = plt.subplots(nrows=2, ncols=3, sharex=False, sharey=False, figsize=(9, 5))\n",
    "xlim = 20; bw=0.5\n",
    "for n, ax in zip(range(1, 6), axes.reshape((-1, ))):\n",
    "    a = np.log(lassyngrams.COUNT.ix[dorr[n]].dropna())\n",
    "    b = np.log(lassyngrams.COUNT.ix[spri[n]].dropna())\n",
    "    c = np.log(lassyngrams.COUNT.ix[clichengrams[n]].dropna())\n",
    "    d = np.log(lassyngrams.COUNT.ix[buur[n]].dropna())\n",
    "    ax.hist([c, b, a, d], bins=20, label=['cliches', 'Springer_Quadriga', 'Dorrestein_Leesclub', 'Voskuil_Buurman'],\n",
    "            histtype='step', alpha=1.0, linewidth=2, color=['r', 'g', 'b', 'k'])\n",
    "    ax.set_xlabel('%d-grams log count' % n)\n",
    "    # ax.legend(loc='best')\n",
    "    ax.tick_params(axis='x', which='both', bottom='on', top='off')\n",
    "    ax.tick_params(axis='y', which='both', left='on', right='off')\n",
    "fig.tight_layout()\n",
    "# axes[1, 2].set_visible(False)\n",
    "h, l = axes[0, 0].get_legend_handles_labels() \n",
    "axes[1, 2].legend(h, l)\n",
    "axes[0, 0].set_ylim(0, 3300); axes[0, 1].set_ylim(0, 3300)\n",
    "fig.savefig('/tmp/novelngramcomp.pdf')"
   ]
  }
 ],
 "metadata": {
  "kernelspec": {
   "display_name": "Python 3",
   "language": "python",
   "name": "python3"
  },
  "language_info": {
   "codemirror_mode": {
    "name": "ipython",
    "version": 3
   },
   "file_extension": ".py",
   "mimetype": "text/x-python",
   "name": "python",
   "nbconvert_exporter": "python",
   "pygments_lexer": "ipython3",
   "version": "3.6.1"
  }
 },
 "nbformat": 4,
 "nbformat_minor": 1
}
